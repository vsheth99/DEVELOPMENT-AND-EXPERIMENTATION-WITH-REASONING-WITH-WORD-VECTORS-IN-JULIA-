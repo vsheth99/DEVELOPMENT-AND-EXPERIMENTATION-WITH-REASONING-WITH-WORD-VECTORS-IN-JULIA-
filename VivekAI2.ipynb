{
 "cells": [
  {
   "cell_type": "code",
   "execution_count": 1,
   "metadata": {},
   "outputs": [],
   "source": [
    "using Distances, Statistics\n",
    "using MultivariateStats\n",
    "using PyPlot\n",
    "using WordTokenizers\n",
    "using TextAnalysis\n",
    "using DelimitedFiles"
   ]
  },
  {
   "cell_type": "code",
   "execution_count": 17,
   "metadata": {},
   "outputs": [
    {
     "data": {
      "text/plain": [
       "load_embeddings (generic function with 1 method)"
      ]
     },
     "execution_count": 17,
     "metadata": {},
     "output_type": "execute_result"
    }
   ],
   "source": [
    "function load_embeddings(embedding_file)\n",
    "    local LL,indexed_words, index\n",
    "    indexed_words = Vector{String}()\n",
    "    LL = Vector{Vector{Float64}}()\n",
    "    open(embedding_file) do f\n",
    "        index = 1\n",
    "        for line in eachline(f)\n",
    "            xs=split(line)\n",
    "            word = xs[1]\n",
    "            push!(indexed_words, word)\n",
    "            push!(LL, parse.(Float64,xs[2:end]))\n",
    "            index += 1\n",
    "        end\n",
    "    end\n",
    "    return reduce(hcat,LL), indexed_words\n",
    "end"
   ]
  },
  {
   "cell_type": "code",
   "execution_count": 18,
   "metadata": {},
   "outputs": [
    {
     "name": "stdout",
     "output_type": "stream",
     "text": [
      "Loaded embeddings, each word is represented by a vector with 50 features. The vocab size is 400000\n"
     ]
    }
   ],
   "source": [
    "embeddings,vocab = load_embeddings(\"C:/Users/vivek/Downloads/glove.6B/glove.6B.100d.txt\")\n",
    "vec_size, vocab_size = size(embeddings)\n",
    "println(\"Loaded embeddings, each word is represented by a vector with $vec_size features. The vocab size is $vocab_size\")\n"
   ]
  },
  {
   "cell_type": "code",
   "execution_count": 13,
   "metadata": {},
   "outputs": [
    {
     "data": {
      "text/plain": [
       "5796"
      ]
     },
     "execution_count": 13,
     "metadata": {},
     "output_type": "execute_result"
    }
   ],
   "source": [
    "vec_idx(s)=findfirst(x -> x==s, vocab)\n",
    "vec_idx(\"cheese\")"
   ]
  },
  {
   "cell_type": "code",
   "execution_count": 14,
   "metadata": {},
   "outputs": [
    {
     "name": "stdout",
     "output_type": "stream",
     "text": [
      "Loaded embeddings, each word is represented by a vector with 100 features. The vocab size is 400000\n"
     ]
    }
   ],
   "source": [
    "embeddings,vocab = load_embeddings(\"C:/Users/vivek/Downloads/glove.6B/glove.6B.100d.txt\")\n",
    "vec_size, vocab_size = size(embeddings)\n",
    "println(\"Loaded embeddings, each word is represented by a vector with $vec_size features. The vocab size is $vocab_size\")\n"
   ]
  },
  {
   "cell_type": "code",
   "execution_count": 15,
   "metadata": {},
   "outputs": [
    {
     "data": {
      "text/plain": [
       "295248"
      ]
     },
     "execution_count": 15,
     "metadata": {},
     "output_type": "execute_result"
    }
   ],
   "source": [
    "vec_idx(s)=findfirst(x -> x==s, vocab)\n",
    "vec_idx(\"altcar\")"
   ]
  },
  {
   "cell_type": "code",
   "execution_count": 21,
   "metadata": {},
   "outputs": [
    {
     "data": {
      "text/plain": [
       "50-element Array{Float64,1}:\n",
       "  0.35286\n",
       " -0.23699\n",
       " -0.77357\n",
       "  0.74114\n",
       " -0.012065\n",
       " -0.36192\n",
       " -0.39925\n",
       " -0.27894\n",
       "  1.7881\n",
       " -0.26777\n",
       " -0.36849\n",
       "  0.11557\n",
       "  1.3973\n",
       "  ⋮\n",
       " -0.86715\n",
       "  0.10879\n",
       " -0.58138\n",
       " -0.58457\n",
       "  0.60059\n",
       "  0.67574\n",
       "  0.40177\n",
       " -0.19689\n",
       "  0.2758\n",
       "  0.22438\n",
       " -0.027037\n",
       "  0.52948"
      ]
     },
     "execution_count": 21,
     "metadata": {},
     "output_type": "execute_result"
    }
   ],
   "source": [
    "function vec(s)\n",
    "    if vec_idx(s)!=nothing\n",
    "        embeddings[:,vec_idx(s)]\n",
    "    end\n",
    "end\n",
    "vec(\"nongame\")"
   ]
  },
  {
   "cell_type": "code",
   "execution_count": 22,
   "metadata": {},
   "outputs": [
    {
     "data": {
      "text/plain": [
       "cosine (generic function with 1 method)"
      ]
     },
     "execution_count": 22,
     "metadata": {},
     "output_type": "execute_result"
    }
   ],
   "source": [
    "cosine(x,y)=1+cosine_dist(x,y)"
   ]
  },
  {
   "cell_type": "code",
   "execution_count": 24,
   "metadata": {},
   "outputs": [
    {
     "data": {
      "text/plain": [
       "true"
      ]
     },
     "execution_count": 24,
     "metadata": {},
     "output_type": "execute_result"
    }
   ],
   "source": [
    "cosine(vec(\"xykon\"), vec(\"nagor\")) < cosine(vec(\"reller\"), vec(\"isdr\"))"
   ]
  },
  {
   "cell_type": "code",
   "execution_count": 32,
   "metadata": {},
   "outputs": [
    {
     "data": {
      "text/plain": [
       "closest (generic function with 2 methods)"
      ]
     },
     "execution_count": 32,
     "metadata": {},
     "output_type": "execute_result"
    }
   ],
   "source": [
    "function closest(v, n=20)\n",
    "    list=[(x,cosine(embeddings'[x,:],v)) for x in 1:size(embeddings)[2]]\n",
    "    topn_idx=sort(list, by=x -> x[2], rev=true)[1:n]\n",
    "    return [vocab[a] for(a,_) in topn_idx]\n",
    "end"
   ]
  },
  {
   "cell_type": "code",
   "execution_count": 33,
   "metadata": {},
   "outputs": [
    {
     "data": {
      "text/plain": [
       "20-element Array{String,1}:\n",
       " \"petrovs\"\n",
       " \"blatnik\"\n",
       " \"muruli\"\n",
       " \"nobuyasu\"\n",
       " \"anielewicz\"\n",
       " \"nguon\"\n",
       " \"gcsb\"\n",
       " \"ōhashi\"\n",
       " \"aiz\"\n",
       " \"chans\"\n",
       " \"i-695\"\n",
       " \"polevoy\"\n",
       " \"skeer\"\n",
       " \"pennybacker\"\n",
       " \"alparslan\"\n",
       " \"takahiro\"\n",
       " \"knab\"\n",
       " \"maheswaran\"\n",
       " \"beetham\"\n",
       " \"woodall\""
      ]
     },
     "execution_count": 33,
     "metadata": {},
     "output_type": "execute_result"
    }
   ],
   "source": [
    "closest(vec(\"wine\")) "
   ]
  },
  {
   "cell_type": "code",
   "execution_count": 112,
   "metadata": {},
   "outputs": [
    {
     "data": {
      "text/plain": [
       "20-element Array{String,1}:\n",
       " \"relatedly\"\n",
       " \"sagiv\"\n",
       " \"meawhile\"\n",
       " \"metabolomics\"\n",
       " \"ilpo\"\n",
       " \"renos\"\n",
       " \"jirapan\"\n",
       " \"linowes\"\n",
       " \"4,835\"\n",
       " \"miccio\"\n",
       " \"fleek\"\n",
       " \"mullainathan\"\n",
       " \"saxenian\"\n",
       " \"nedeljkovic\"\n",
       " \"nannetti\"\n",
       " \"3,134\"\n",
       " \"1,854\"\n",
       " \"3,068\"\n",
       " \"teleworking\"\n",
       " \"korhonen\""
      ]
     },
     "execution_count": 112,
     "metadata": {},
     "output_type": "execute_result"
    }
   ],
   "source": [
    "closest(vec(\"man\")-vec(\"woman\")+vec(\"queen\"))"
   ]
  },
  {
   "cell_type": "code",
   "execution_count": 42,
   "metadata": {},
   "outputs": [
    {
     "ename": "LoadError",
     "evalue": "UndefVarError: embeddings_files not defined",
     "output_type": "error",
     "traceback": [
      "UndefVarError: embeddings_files not defined",
      "",
      "Stacktrace:",
      " [1] top-level scope at In[42]:1",
      " [2] include_string(::Function, ::Module, ::String, ::String) at .\\loading.jl:1091"
     ]
    }
   ],
   "source": []
  },
  {
   "cell_type": "code",
   "execution_count": 85,
   "metadata": {},
   "outputs": [
    {
     "name": "stdout",
     "output_type": "stream",
     "text": [
      "Loaded Storm Of London, length=432205 characters\n"
     ]
    }
   ],
   "source": [
    "txt = open(\"C:/Users/vivek/Downloads/glove.6B/stormoflondon.txt\") do file \n",
    "    read(file, String)\n",
    "end\n",
    "println(\"Loaded Storm Of London, length=$(length(txt)) characters\")"
   ]
  },
  {
   "cell_type": "code",
   "execution_count": 90,
   "metadata": {},
   "outputs": [
    {
     "data": {
      "text/plain": [
       "getsentences (generic function with 1 method)"
      ]
     },
     "execution_count": 90,
     "metadata": {},
     "output_type": "execute_result"
    }
   ],
   "source": [
    "using WordTokenizers, TextAnalysis\n",
    "\n",
    "function getsentences(txt)\n",
    "    txt= replace(txt, r\"\\n|\\r|_|,\"=>\"\")\n",
    "    txt= replace(txt, r\"[\\\"*();!]\"=>\"\")\n",
    "    sd=StringDocument(txt)\n",
    "    prepare!(sd, strip_whitespace)\n",
    "    sentences = WordTokenizers.split_sentences(sd.text)\n",
    "    i=1\n",
    "    for s in 1:length(sentences)\n",
    "        if lenght(split(sentences[s]))>3\n",
    "            sentences[i]=lowercase(replace(sentences[s], \".\"=>\"\"))\n",
    "            i+1\n",
    "        end\n",
    "    end\n",
    "sentences[1000:1010]\n",
    "end\n"
   ]
  },
  {
   "cell_type": "code",
   "execution_count": 81,
   "metadata": {},
   "outputs": [
    {
     "ename": "LoadError",
     "evalue": "MethodError: no method matching similar(::Int64, ::Type{Any})\nClosest candidates are:\n  similar(!Matched::ZMQ.Message, ::Type{T}, !Matched::Tuple{Vararg{Int64,N}} where N) where T at C:\\Users\\vivek\\.julia\\packages\\ZMQ\\R3wSD\\src\\message.jl:93\n  similar(!Matched::Array{T,1}, ::Type) where T at array.jl:377\n  similar(!Matched::Array{T,2}, ::Type) where T at array.jl:378\n  ...",
     "output_type": "error",
     "traceback": [
      "MethodError: no method matching similar(::Int64, ::Type{Any})\nClosest candidates are:\n  similar(!Matched::ZMQ.Message, ::Type{T}, !Matched::Tuple{Vararg{Int64,N}} where N) where T at C:\\Users\\vivek\\.julia\\packages\\ZMQ\\R3wSD\\src\\message.jl:93\n  similar(!Matched::Array{T,1}, ::Type) where T at array.jl:377\n  similar(!Matched::Array{T,2}, ::Type) where T at array.jl:378\n  ...",
      "",
      "Stacktrace:",
      " [1] _similar_or_copy(::Int64, ::Type{Any}) at .\\set.jl:423",
      " [2] replace(::Int64, ::Pair{Regex,String}; count::Nothing) at .\\set.jl:538",
      " [3] replace(::Int64, ::Pair{Regex,String}) at .\\set.jl:535",
      " [4] getsentences(::Int64) at .\\In[80]:3",
      " [5] top-level scope at In[81]:1",
      " [6] include_string(::Function, ::Module, ::String, ::String) at .\\loading.jl:1091"
     ]
    }
   ],
   "source": []
  },
  {
   "cell_type": "code",
   "execution_count": 107,
   "metadata": {},
   "outputs": [
    {
     "data": {
      "text/plain": [
       "sentvec (generic function with 1 method)"
      ]
     },
     "execution_count": 107,
     "metadata": {},
     "output_type": "execute_result"
    }
   ],
   "source": [
    "function sentvec(s)\n",
    "    local arr=[64]\n",
    "    for w in split(sentences[s])\n",
    "        if vec(w)!=nothing\n",
    "            push!(arr, vec(w))\n",
    "        end\n",
    "    end\n",
    "    if lenght(arr)==0\n",
    "        ones(Float64, (50,1))*900\n",
    "    else\n",
    "        mean(arr)\n",
    "    end\n",
    "end"
   ]
  },
  {
   "cell_type": "code",
   "execution_count": 108,
   "metadata": {},
   "outputs": [
    {
     "data": {
      "text/plain": [
       "\"“A daring theme treated with admirable discretion.\""
      ]
     },
     "execution_count": 108,
     "metadata": {},
     "output_type": "execute_result"
    }
   ],
   "source": [
    "sentences[20]"
   ]
  },
  {
   "cell_type": "code",
   "execution_count": 109,
   "metadata": {},
   "outputs": [
    {
     "ename": "LoadError",
     "evalue": "MethodError: Cannot `convert` an object of type Array{Float64,1} to an object of type Int64\nClosest candidates are:\n  convert(::Type{T}, !Matched::T) where T<:Number at number.jl:6\n  convert(::Type{T}, !Matched::Number) where T<:Number at number.jl:7\n  convert(::Type{T}, !Matched::Ptr) where T<:Integer at pointer.jl:23\n  ...",
     "output_type": "error",
     "traceback": [
      "MethodError: Cannot `convert` an object of type Array{Float64,1} to an object of type Int64\nClosest candidates are:\n  convert(::Type{T}, !Matched::T) where T<:Number at number.jl:6\n  convert(::Type{T}, !Matched::Number) where T<:Number at number.jl:7\n  convert(::Type{T}, !Matched::Ptr) where T<:Integer at pointer.jl:23\n  ...",
      "",
      "Stacktrace:",
      " [1] push!(::Array{Int64,1}, ::Array{Float64,1}) at .\\array.jl:934",
      " [2] sentvec(::Int64) at .\\In[107]:5",
      " [3] top-level scope at In[109]:1",
      " [4] include_string(::Function, ::Module, ::String, ::String) at .\\loading.jl:1091"
     ]
    }
   ],
   "source": [
    "sentvec(1000)"
   ]
  },
  {
   "cell_type": "code",
   "execution_count": 110,
   "metadata": {},
   "outputs": [
    {
     "data": {
      "text/plain": [
       "closest_sent (generic function with 2 methods)"
      ]
     },
     "execution_count": 110,
     "metadata": {},
     "output_type": "execute_result"
    }
   ],
   "source": [
    "function closest_sent(input_str, n=200)\n",
    "    mean_vec_input=mean([vec(w) for w in split(input_str)])\n",
    "    list=[(x,cosine(mean_vec_input, sentvec(x))) for x in 1:lenght(sentence)]\n",
    "    topn_idx=sort(list, by = x -> x[2], rev=true)[1:n]\n",
    "    return [sentences[a] for (a,_) in topn_idx]\n",
    "end\n"
   ]
  },
  {
   "cell_type": "code",
   "execution_count": 111,
   "metadata": {},
   "outputs": [
    {
     "ename": "LoadError",
     "evalue": "UndefVarError: lenght not defined",
     "output_type": "error",
     "traceback": [
      "UndefVarError: lenght not defined",
      "",
      "Stacktrace:",
      " [1] closest_sent(::String, ::Int64) at .\\In[110]:3",
      " [2] closest_sent(::String) at .\\In[110]:2",
      " [3] top-level scope at In[111]:1",
      " [4] include_string(::Function, ::Module, ::String, ::String) at .\\loading.jl:1091"
     ]
    }
   ],
   "source": [
    "closest_sent(\"he very soon realised that the\")"
   ]
  },
  {
   "cell_type": "code",
   "execution_count": null,
   "metadata": {},
   "outputs": [],
   "source": []
  }
 ],
 "metadata": {
  "kernelspec": {
   "display_name": "Julia 1.5.3",
   "language": "julia",
   "name": "julia-1.5"
  },
  "language_info": {
   "file_extension": ".jl",
   "mimetype": "application/julia",
   "name": "julia",
   "version": "1.5.3"
  }
 },
 "nbformat": 4,
 "nbformat_minor": 4
}
